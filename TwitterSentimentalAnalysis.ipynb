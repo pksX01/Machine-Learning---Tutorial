{
  "nbformat": 4,
  "nbformat_minor": 0,
  "metadata": {
    "colab": {
      "name": "TwitterSentimentalAnalysis.ipynb",
      "version": "0.3.2",
      "provenance": [],
      "include_colab_link": true
    },
    "kernelspec": {
      "name": "python3",
      "display_name": "Python 3"
    }
  },
  "cells": [
    {
      "cell_type": "markdown",
      "metadata": {
        "id": "view-in-github",
        "colab_type": "text"
      },
      "source": [
        "<a href=\"https://colab.research.google.com/github/pksX01/Stock-Prices-Prediction-using-SVM/blob/master/TwitterSentimentalAnalysis.ipynb\" target=\"_parent\"><img src=\"https://colab.research.google.com/assets/colab-badge.svg\" alt=\"Open In Colab\"/></a>"
      ]
    },
    {
      "cell_type": "code",
      "metadata": {
        "id": "5pc1UvWVCVYY",
        "colab_type": "code",
        "colab": {
          "base_uri": "https://localhost:8080/",
          "height": 527
        },
        "outputId": "7cbc10d0-9b69-4421-f7ab-ec6bce98389d"
      },
      "source": [
        "import tweepy\n",
        "from textblob import TextBlob\n",
        "consumer_key='your_key'\n",
        "consumer_secret='your_secret'\n",
        "access_token='your_access_token'\n",
        "access_token_secret='your_access_token_secret'\n",
        "auth=tweepy.OAuthHandler(consumer_key,consumer_secret)\n",
        "auth.set_access_token(access_token,access_token_secret)\n",
        "api=tweepy.API(auth)\n",
        "public_tweets=api.search('trump')\n",
        "\n",
        "for tweet in public_tweets:\n",
        "    print(tweet.text)\n",
        "    analysis=TextBlob(tweet.text)\n",
        "    print(analysis.sentiment)\n",
        "    "
      ],
      "execution_count": 5,
      "outputs": [
        {
          "output_type": "stream",
          "text": [
            "RT @BoKnowsNews: Wow: @justinamash is NOT backing down. He is now talking to a school group on steps of the Capitol about why Trump impeach…\n",
            "Sentiment(polarity=-0.02777777777777779, subjectivity=0.6444444444444445)\n",
            "RT @adamcbest: When Republicans thought they had seen the last of Merrick Garland but he heads up the court that's hearing Trump's tax appe…\n",
            "Sentiment(polarity=0.0, subjectivity=0.06666666666666667)\n",
            "@thehill Senate Republican 53\n",
            "Senate Democrats 45\n",
            "Independents            2\n",
            "\n",
            "Chief Justice John Roberts \n",
            "Was recent… https://t.co/Kir60rDZ5f\n",
            "Sentiment(polarity=0.0, subjectivity=0.0)\n",
            "RT @stucam7771: Trump \"I'm the most transparent ever\"\n",
            "\n",
            "Tax returns - still hidden\n",
            "Bank records - fighting to keep hidden\n",
            "Education results…\n",
            "Sentiment(polarity=0.05555555555555557, subjectivity=0.38888888888888884)\n",
            "RT @RepTedDeutch: The events @HouseJudiciary plans to ask McGahn about aren’t privileged.\n",
            "\n",
            "-Trump asked McGahn to get Sessions to reverse h…\n",
            "Sentiment(polarity=0.0, subjectivity=0.0)\n",
            "RT @SinEmbargoMX: Un juez prohíbe a Trump ocultar sus registros financieros ante solicitudes del Congreso de EU\n",
            "https://t.co/Q2BEaQsHfV htt…\n",
            "Sentiment(polarity=0.0, subjectivity=0.0)\n",
            "RT @dcpoll: He isn't joking. Trump will try to stay in office until he dies. \n",
            "\n",
            "\"...and if things keep going like they are going we will do…\n",
            "Sentiment(polarity=0.0, subjectivity=0.0)\n",
            "RT @SachaturTweets: @admiralmpj @retiredtxteach Trump and Barr are trying to run out the clock on the 116th Congress. Once the term ends, w…\n",
            "Sentiment(polarity=0.0, subjectivity=0.0)\n"
          ],
          "name": "stdout"
        }
      ]
    }
  ]
}
